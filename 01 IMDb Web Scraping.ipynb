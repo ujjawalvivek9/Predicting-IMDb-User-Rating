{
 "cells": [
  {
   "cell_type": "markdown",
   "metadata": {},
   "source": [
    "# Import all the necessary libraries"
   ]
  },
  {
   "cell_type": "code",
   "execution_count": null,
   "metadata": {},
   "outputs": [],
   "source": [
    "## Web Scraping\n",
    "from selenium import webdriver\n",
    "from selenium.webdriver.common.keys import Keys\n",
    "from selenium.webdriver.chrome.options import Options  \n",
    "from selenium.webdriver.common.by import By\n",
    "from selenium.webdriver.support import expected_conditions as EC\n",
    "from selenium.webdriver.support.ui import WebDriverWait\n",
    "from bs4 import BeautifulSoup\n",
    "from collections import defaultdict\n",
    "from fake_useragent import UserAgent\n",
    "import requests\n",
    "import time, os\n",
    "\n",
    "## Others\n",
    "import random\n",
    "import re\n",
    "import pandas as pd\n",
    "import pickle"
   ]
  },
  {
   "cell_type": "markdown",
   "metadata": {},
   "source": [
    "# Scrape the IMDb website for movie information"
   ]
  },
  {
   "cell_type": "markdown",
   "metadata": {},
   "source": [
    "## 1) Set up the webdriver and options for chrome"
   ]
  },
  {
   "cell_type": "code",
   "execution_count": null,
   "metadata": {},
   "outputs": [],
   "source": [
    "chromedriver = \"/Applications/chromedriver\" # path to the chromedriver executable\n",
    "os.environ[\"webdriver.chrome.driver\"] = chromedriver\n",
    "\n",
    "chrome_options = Options()  \n",
    "chrome_options.add_argument(\"--headless\")  \n",
    "\n",
    "## headless driver\n",
    "## driver = webdriver.Chrome(executable_path=chromedriver, options=chrome_options)\n",
    "\n",
    "## nonheadless driver\n",
    "## driver = webdriver.Chrome(chromedriver)"
   ]
  },
  {
   "cell_type": "markdown",
   "metadata": {},
   "source": [
    "## 2) Set up sleep timer between each request to avoid being blocked"
   ]
  },
  {
   "cell_type": "code",
   "execution_count": null,
   "metadata": {},
   "outputs": [],
   "source": [
    "sleep_time = 28+20*random.random() # wait at least every 30 secs"
   ]
  },
  {
   "cell_type": "markdown",
   "metadata": {},
   "source": [
    "## 3) Miscellaneous customized functions used in the scraping later"
   ]
  },
  {
   "cell_type": "code",
   "execution_count": null,
   "metadata": {},
   "outputs": [],
   "source": [
    "def movie_id_extract(link):\n",
    "    regex = re.compile(\"^/title/tt(\\d+)/.+$\")\n",
    "    return re.findall(regex, link)"
   ]
  },
  {
   "cell_type": "markdown",
   "metadata": {},
   "source": [
    "## 4) Scrape for the movie IDs and movie titles"
   ]
  },
  {
   "cell_type": "code",
   "execution_count": null,
   "metadata": {},
   "outputs": [],
   "source": [
    "url = \"https://www.imdb.com/search/title/?year=2018&title_type=feature&\"\n",
    "driver = webdriver.Chrome(chromedriver) # nonheadless driver\n",
    "driver.set_window_size(1120, 1000)\n",
    "driver.get(url)\n",
    "time.sleep(.1)\n",
    "\n",
    "df = pd.DataFrame(columns=['movie_id', 'movie_title'])\n",
    "i = 0\n",
    "total_pages = 25\n",
    "\n",
    "while i < total_pages: ## each page has 50 movies, hence scraping 21 pages\n",
    "    user_agent = {'User-agent': UserAgent().random}\n",
    "    url = driver.current_url\n",
    "    page = requests.get(url, headers = user_agent).text\n",
    "    soup = BeautifulSoup(page, \"lxml\")\n",
    "    for h in soup.find_all(\"h3\"):\n",
    "        a = h.find(\"a\")\n",
    "        if a is not None and 'href' in a.attrs:\n",
    "            title_link = a.attrs['href']\n",
    "            movie_id = movie_id_extract(title_link)[0]\n",
    "            movie_title = a.text\n",
    "\n",
    "        ## Saving it to the file every time\n",
    "        df = df.append(pd.Series([movie_id, movie_title],\n",
    "                                 index=df.columns),\n",
    "                       ignore_index=True)\n",
    "        df.to_csv(r'imdb_movie_id.csv', index = False)\n",
    "        df.to_pickle('./imdb_movie_id.pkl')\n",
    "    \n",
    "    ## Status to prompt on screen\n",
    "    print(\"Completed scraping page\", str(i+1), \"out of\", str(total_pages),\n",
    "          \"(\"+ str(round((i+1)/(total_pages)*100,2))+ \"%)\")\n",
    "\n",
    "    ## Find the element, then click!\n",
    "    ## driver.find_element_by_xpath(\"//a[@class='lister-page-next next-page']\").click()\n",
    "    \n",
    "    ## Waiting for the path to be clickable, then click!\n",
    "    WebDriverWait(driver, 10).until(\n",
    "        EC.element_to_be_clickable(\n",
    "            (By.XPATH, \"//a[@class='lister-page-next next-page']\"))).click()\n",
    "    i+= 1\n",
    "    time.sleep(sleep_time)\n",
    "    \n",
    "driver.quit() \n",
    "print(\"100% of movie ID and moive title has been scraped!\") \n",
    "\n",
    "## Remove duplicates then save it to csv!\n",
    "df.drop_duplicates(inplace=True)\n",
    "df.to_csv(r'imdb_movie_id_2018.csv', index = False)\n",
    "df.to_pickle('./imdb_movie_ids_2018.pkl')"
   ]
  },
  {
   "cell_type": "markdown",
   "metadata": {},
   "source": [
    "## 5) Scrape for movie information"
   ]
  },
  {
   "cell_type": "code",
   "execution_count": null,
   "metadata": {},
   "outputs": [],
   "source": [
    "driver = webdriver.Chrome(chromedriver) # nonheadless driver\n",
    "imdb_df = pd.DataFrame(columns=['movie_id', 'runtime', 'genres_list', \n",
    "                                'release_date', 'imdb_user_rating', 'imdb_user_rating_count'])\n",
    "\n",
    "for movie_id in df['movie_id']:\n",
    "    try:\n",
    "        driver.get(\"https://www.imdb.com/title/tt\" + movie_id)\n",
    "        page = driver.execute_script(\"return document.documentElement.innerHTML;\")\n",
    "        soup = BeautifulSoup(page, \"lxml\")\n",
    "\n",
    "        # \"runtime\"\n",
    "        try:\n",
    "            runtime = soup.find('time').text.strip()\n",
    "        except:\n",
    "            runtime = 0\n",
    "\n",
    "        # \"genres_list\" and \"release_date\"\n",
    "        movie_subtext = soup.find('div',attrs={\"class\" : \"subtext\"})\n",
    "        a_hrefs_list = []\n",
    "        for a_href in movie_subtext.find_all('a'):\n",
    "            a_hrefs = movie_subtext.find_all('a')\n",
    "            a_hrefs_list.append(a_href.text)\n",
    "\n",
    "        genres_list = a_hrefs_list[:-1] #last one is the released date\n",
    "        release_date = a_hrefs_list[-1].rstrip()\n",
    "\n",
    "        # \"imdb_rating\" and \"imdb_user_rating_count\"\n",
    "        rating_and_user_rating_count_html = str(soup.find(\"div\", attrs={\"class\": \"ratingValue\"}).find(\"strong\"))\n",
    "        imdb_user_rating = re.findall(r'<strong title=\"(\\d+.\\d) based on .+ user ratings\">.+', rating_and_user_rating_count_html)[0]\n",
    "        imdb_user_rating_count = re.findall(r'<strong title=\"\\d+.\\d based on (.+) user ratings\">.+', rating_and_user_rating_count_html)[0]\n",
    "\n",
    "        imdb_df = imdb_df.append(pd.Series([movie_id, runtime, genres_list, release_date, imdb_user_rating, \n",
    "                                            imdb_user_rating_count], index=imdb_df.columns ), ignore_index=True)\n",
    "        imdb_df.to_csv(r'imdb_movie.csv', index = False)\n",
    "        imdb_df.to_pickle('./imdb_movie.pkl')\n",
    "\n",
    "        ## Status to prompt on screen\n",
    "        total_movies = len([movie_id for movie_id in df['movie_id']])\n",
    "        current_movie_index = int(df[df['movie_id']==movie_id].index[0])\n",
    "        print(\"Completed scraping movie #\", \n",
    "              str(current_movie_index), \"out of\", str(total_movies+1), \n",
    "              \"(\"+ str(round(current_movie_index/(total_movies+1)*100,2))+ \"%)\")\n",
    "\n",
    "        time.sleep(sleep_time)\n",
    "    except:\n",
    "        pass\n",
    "\n",
    "driver.quit()\n",
    "\n",
    "## Remove duplicates then save it to csv!\n",
    "imdb_df.drop_duplicates(inplace=True)\n",
    "imdb_df.to_csv(r'imdb_movie_2018.csv', index = False)"
   ]
  },
  {
   "cell_type": "markdown",
   "metadata": {},
   "source": [
    "## 6) Merge both data frames and save them to csv file."
   ]
  },
  {
   "cell_type": "code",
   "execution_count": null,
   "metadata": {},
   "outputs": [],
   "source": [
    "all_df = pd.merge(df1, df2, how=\"inner\", on=\"movie_id\")\n",
    "all_df.to_csv(r'imdb_movie.csv', index = False)"
   ]
  }
 ],
 "metadata": {
  "kernelspec": {
   "display_name": "Python 3",
   "language": "python",
   "name": "python3"
  },
  "language_info": {
   "codemirror_mode": {
    "name": "ipython",
    "version": 3
   },
   "file_extension": ".py",
   "mimetype": "text/x-python",
   "name": "python",
   "nbconvert_exporter": "python",
   "pygments_lexer": "ipython3",
   "version": "3.7.7"
  }
 },
 "nbformat": 4,
 "nbformat_minor": 4
}
